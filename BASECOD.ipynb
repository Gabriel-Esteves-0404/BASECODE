{
  "nbformat": 4,
  "nbformat_minor": 0,
  "metadata": {
    "colab": {
      "provenance": [],
      "authorship_tag": "ABX9TyNxIwu6NZgJ8bpUM9NMuQ9n",
      "include_colab_link": true
    },
    "kernelspec": {
      "name": "python3",
      "display_name": "Python 3"
    },
    "language_info": {
      "name": "python"
    }
  },
  "cells": [
    {
      "cell_type": "markdown",
      "metadata": {
        "id": "view-in-github",
        "colab_type": "text"
      },
      "source": [
        "<a href=\"https://colab.research.google.com/github/Gabriel-Esteves-0404/BASECODE/blob/main/BASECOD.ipynb\" target=\"_parent\"><img src=\"https://colab.research.google.com/assets/colab-badge.svg\" alt=\"Open In Colab\"/></a>"
      ]
    },
    {
      "cell_type": "code",
      "source": [
        "%pip install pennylane"
      ],
      "metadata": {
        "colab": {
          "base_uri": "https://localhost:8080/"
        },
        "id": "dWT3_7HT8gnl",
        "outputId": "84eb6492-3c2f-4c05-90df-c3a223bfd25b",
        "collapsed": true
      },
      "execution_count": 1,
      "outputs": [
        {
          "output_type": "stream",
          "name": "stdout",
          "text": [
            "Requirement already satisfied: pennylane in /usr/local/lib/python3.11/dist-packages (0.41.1)\n",
            "Requirement already satisfied: numpy in /usr/local/lib/python3.11/dist-packages (from pennylane) (2.0.2)\n",
            "Requirement already satisfied: scipy in /usr/local/lib/python3.11/dist-packages (from pennylane) (1.15.3)\n",
            "Requirement already satisfied: networkx in /usr/local/lib/python3.11/dist-packages (from pennylane) (3.4.2)\n",
            "Requirement already satisfied: rustworkx>=0.14.0 in /usr/local/lib/python3.11/dist-packages (from pennylane) (0.16.0)\n",
            "Requirement already satisfied: autograd in /usr/local/lib/python3.11/dist-packages (from pennylane) (1.8.0)\n",
            "Requirement already satisfied: tomlkit in /usr/local/lib/python3.11/dist-packages (from pennylane) (0.13.2)\n",
            "Requirement already satisfied: appdirs in /usr/local/lib/python3.11/dist-packages (from pennylane) (1.4.4)\n",
            "Requirement already satisfied: autoray>=0.6.11 in /usr/local/lib/python3.11/dist-packages (from pennylane) (0.7.1)\n",
            "Requirement already satisfied: cachetools in /usr/local/lib/python3.11/dist-packages (from pennylane) (5.5.2)\n",
            "Requirement already satisfied: pennylane-lightning>=0.41 in /usr/local/lib/python3.11/dist-packages (from pennylane) (0.41.1)\n",
            "Requirement already satisfied: requests in /usr/local/lib/python3.11/dist-packages (from pennylane) (2.32.3)\n",
            "Requirement already satisfied: typing-extensions in /usr/local/lib/python3.11/dist-packages (from pennylane) (4.13.2)\n",
            "Requirement already satisfied: packaging in /usr/local/lib/python3.11/dist-packages (from pennylane) (24.2)\n",
            "Requirement already satisfied: diastatic-malt in /usr/local/lib/python3.11/dist-packages (from pennylane) (2.15.2)\n",
            "Requirement already satisfied: scipy-openblas32>=0.3.26 in /usr/local/lib/python3.11/dist-packages (from pennylane-lightning>=0.41->pennylane) (0.3.29.265.0)\n",
            "Requirement already satisfied: astunparse in /usr/local/lib/python3.11/dist-packages (from diastatic-malt->pennylane) (1.6.3)\n",
            "Requirement already satisfied: gast in /usr/local/lib/python3.11/dist-packages (from diastatic-malt->pennylane) (0.6.0)\n",
            "Requirement already satisfied: termcolor in /usr/local/lib/python3.11/dist-packages (from diastatic-malt->pennylane) (3.1.0)\n",
            "Requirement already satisfied: charset-normalizer<4,>=2 in /usr/local/lib/python3.11/dist-packages (from requests->pennylane) (3.4.2)\n",
            "Requirement already satisfied: idna<4,>=2.5 in /usr/local/lib/python3.11/dist-packages (from requests->pennylane) (3.10)\n",
            "Requirement already satisfied: urllib3<3,>=1.21.1 in /usr/local/lib/python3.11/dist-packages (from requests->pennylane) (2.4.0)\n",
            "Requirement already satisfied: certifi>=2017.4.17 in /usr/local/lib/python3.11/dist-packages (from requests->pennylane) (2025.4.26)\n",
            "Requirement already satisfied: wheel<1.0,>=0.23.0 in /usr/local/lib/python3.11/dist-packages (from astunparse->diastatic-malt->pennylane) (0.45.1)\n",
            "Requirement already satisfied: six<2.0,>=1.6.1 in /usr/local/lib/python3.11/dist-packages (from astunparse->diastatic-malt->pennylane) (1.17.0)\n"
          ]
        }
      ]
    },
    {
      "cell_type": "code",
      "execution_count": 2,
      "metadata": {
        "id": "iSTglMIb63v5",
        "colab": {
          "base_uri": "https://localhost:8080/"
        },
        "outputId": "23ee3d52-5918-4376-e871-52e725f53145"
      },
      "outputs": [
        {
          "output_type": "stream",
          "name": "stderr",
          "text": [
            "/usr/local/lib/python3.11/dist-packages/pennylane/capture/capture_operators.py:33: RuntimeWarning: PennyLane is not yet compatible with JAX versions > 0.4.28. You have version 0.5.2 installed. Please downgrade JAX to <=0.4.28 to avoid runtime errors.\n",
            "  warnings.warn(\n"
          ]
        }
      ],
      "source": [
        "import pennylane as qml\n",
        "from pennylane import numpy as np\n",
        "import matplotlib.pyplot as plt\n",
        "from pennylane import math\n",
        "\n",
        "\n",
        "#importações necessárias para o circuito da biblioteca Pennylane"
      ]
    },
    {
      "cell_type": "code",
      "source": [
        "n_qubits = 4\n",
        "dev = qml.device(\"lightning.qubit\", wires=n_qubits)\n",
        "\n",
        "\n",
        "#definição do números de qubits e do modo que esse circuito será executado \"default\""
      ],
      "metadata": {
        "id": "69hl42q69SdS"
      },
      "execution_count": 3,
      "outputs": []
    },
    {
      "cell_type": "code",
      "source": [
        "def ansatz(params, x=None):\n",
        "    for layer in range(params.shape[0]):\n",
        "        # Codificação de 4 features\n",
        "        qml.RX(x[0], wires=0)\n",
        "        qml.RX(x[1], wires=1)\n",
        "        qml.RY(x[2], wires=2)\n",
        "        qml.RY(x[3], wires=3)\n",
        "\n",
        "        for i in range(n_qubits):\n",
        "          qml.RY(params[layer][i][0], wires=i)\n",
        "          qml.RZ(params[layer][i][1], wires=i)\n",
        "          qml.RY(params[layer][i][2], wires=i)\n",
        "          qml.RZ(params[layer][i][3], wires=i)\n",
        "\n",
        "\n",
        "        qml.CNOT(wires=[0, 1])\n",
        "        qml.CNOT(wires=[2, 3])\n",
        "        qml.CNOT(wires=[1, 0])\n",
        "        qml.CNOT(wires=[3, 2])\n",
        "\n",
        "\n"
      ],
      "metadata": {
        "id": "4q9A1qhY4j9o"
      },
      "execution_count": 4,
      "outputs": []
    },
    {
      "cell_type": "code",
      "source": [
        "\n",
        "@qml.qnode(dev) #Esse decador (@) transforma esse circuit em um circuito quantico do pennylane\n",
        "#faz simulações, está usando (dev) porque vai incrementar as propriedades do dev no circuit definido abaixo\n",
        "\n",
        "def circuit(params, x=None): #Aqui é definido o circuit, em que é construido atráves do Ansatz\n",
        "    ansatz(params,x)  # Codifica as features nas rotações RX\n",
        "    return qml.expval(qml.PauliZ(0))\n",
        "\n",
        "\n",
        "#aqui retorna o VEM pelo PauliZ do primeiro qubit\n"
      ],
      "metadata": {
        "id": "E6kga_iG04UO"
      },
      "execution_count": 5,
      "outputs": []
    },
    {
      "cell_type": "code",
      "source": [
        "#aqui iremos implementar o (X,Y,x,y) que serão:\n",
        "# X(todos os valores de entrada do dataset)\n",
        "# Y(todos os valores de saida esperada // labels ou rótulo)\n",
        "# x(valor de entrada de cada dado)\n",
        "# y(valor de saida esperado de cada dado)\n",
        "\n",
        "\n",
        "# 👇 Função auxiliar: Binary Cross Entropy\n",
        "def binary_cross_entropy(pred, y):\n",
        "    eps = 1e-10\n",
        "    pred = (pred + 1) / 2  # mapeia saída de [-1, 1] para [0, 1]\n",
        "    return - (y * np.log(pred + eps) + (1 - y) * np.log(1 - pred + eps))\n",
        "\n",
        "# 👇 Função principal: custo médio\n",
        "def cost(params, X, Y):\n",
        "    loss = 0\n",
        "    for x, y in zip(X, Y):\n",
        "        pred = circuit(params, x)\n",
        "        loss += binary_cross_entropy(pred, y)\n",
        "    return loss / len(X)\n"
      ],
      "metadata": {
        "id": "5sKwefhP5WMn"
      },
      "execution_count": 6,
      "outputs": []
    },
    {
      "cell_type": "code",
      "source": [
        "def accuracy(params, X, Y):\n",
        "    correct = 0\n",
        "    for x, y in zip(X, Y):\n",
        "        pred = circuit(params, x)\n",
        "\n",
        "        pred_label = 1 if pred >= 0 else 0\n",
        "        if pred_label == y:\n",
        "            correct += 1\n",
        "    return correct / len(X)"
      ],
      "metadata": {
        "id": "QKWjSm1Qx-cX"
      },
      "execution_count": 7,
      "outputs": []
    },
    {
      "cell_type": "code",
      "source": [
        "!git clone https://github.com/Gabriel-Esteves-0404/BASECODE.git\n",
        "%cd BASECODE/DATASET\n",
        "base_path = \"./\""
      ],
      "metadata": {
        "colab": {
          "base_uri": "https://localhost:8080/"
        },
        "id": "TfOps1LVZrbG",
        "outputId": "53b0bac7-1f25-4aa3-838d-aeb60b346c22",
        "collapsed": true
      },
      "execution_count": 8,
      "outputs": [
        {
          "output_type": "stream",
          "name": "stdout",
          "text": [
            "fatal: destination path 'BASECODE' already exists and is not an empty directory.\n",
            "/content/BASECODE/DATASET\n"
          ]
        }
      ]
    },
    {
      "cell_type": "code",
      "source": [
        "          #Importação do Dataset (COVID / Normal)\n",
        "\n",
        "import os\n",
        "from PIL import Image\n",
        "\n",
        "size = (64, 64)\n",
        "# classifica uma dimensão de imagem\n",
        "\n",
        "def process_image(path):\n",
        "     img = Image.open(path).convert(\"L\").resize((64, 64))\n",
        "     return np.array(img) / 255.0\n",
        "# Nessa parte se define o process_image, em que vai abrir o arquivo inserido na pasta\n",
        "# pré-definida, a transforma em escala de cinza dimensiona para o valor definido em size\n",
        "# Normaliza os pixels no intervalo de [0,1]\n",
        "\n",
        "\n",
        "X = [] #Array dos dados de entradas\n",
        "y = [] #Array dos labels (rótulos)\n",
        "\n",
        "# COVID\n",
        "\n",
        "covid_img_files = sorted(os.listdir(os.path.join(base_path, \"COVID_IMAGES\")))\n",
        "covid_mask_files = sorted(os.listdir(os.path.join(base_path, \"COVID_MASK\")))\n",
        "\n",
        "\n",
        "for img_file, mask_file in zip(covid_img_files, covid_mask_files):\n",
        "    img = process_image(os.path.join(base_path, \"COVID_IMAGES\", img_file))\n",
        "    mask = process_image(os.path.join(base_path, \"COVID_MASK\", mask_file))\n",
        "    img_masked = img * mask\n",
        "    X.append(img_masked.flatten())\n",
        "    y.append(1)\n",
        "# Classificar os dados do COVID juntando a images com os masks (imagens mascaradas)\n",
        "# dentro da lista X, transforma os dados de entrada de 64x64 px por um vetor de 4096 D\n",
        "# Defini o COVID como label 1\n",
        "\n",
        "# NORMAL\n",
        "normal_img_files = sorted(os.listdir(os.path.join(base_path, \"NORMAL_IMAGES\")))\n",
        "normal_mask_files = sorted(os.listdir(os.path.join(base_path, \"NORMAL_MASK\")))\n",
        "\n",
        "\n",
        "for img_file, mask_file in zip(normal_img_files, normal_mask_files):\n",
        "    img = process_image(os.path.join(base_path, \"NORMAL_IMAGES\", img_file))\n",
        "    mask = process_image(os.path.join(base_path, \"NORMAL_MASK\", mask_file))\n",
        "    img_masked = img * mask\n",
        "    X.append(img_masked.flatten())\n",
        "    y.append(0)\n",
        "# Classificar os dados do Normal juntando a images com os masks (imagens mascaradas)\n",
        "# dentro da lista X, transforma os dados de entrada de 64x64 px por um vetor de 4096 D\n",
        "# Defini o Normal como label 0\n",
        "\n",
        "X = np.array(X)\n",
        "y = np.array(y)\n",
        "# Transforma a lista em array do numpy\n",
        "\n",
        "print(\"Formato de X:\", X.shape) #dados de entrada (10,4096) 10 vetores de 4096D\n",
        "print(\"Formato de y:\", y.shape) # 10 labels binários\n",
        "# Checar formato\n"
      ],
      "metadata": {
        "colab": {
          "base_uri": "https://localhost:8080/"
        },
        "id": "c0U4I1y4_Tx3",
        "outputId": "5312d19e-ab8a-4ba5-a55c-025cf3e39a0d",
        "collapsed": true
      },
      "execution_count": 9,
      "outputs": [
        {
          "output_type": "stream",
          "name": "stdout",
          "text": [
            "Formato de X: (400, 4096)\n",
            "Formato de y: (400,)\n"
          ]
        }
      ]
    },
    {
      "cell_type": "code",
      "source": [
        "from sklearn.decomposition import PCA\n",
        "from sklearn.preprocessing import StandardScaler\n",
        "\n",
        "pca = PCA(n_components=4)\n",
        "# Aqui PCA entende que terá que redimensionar o vetor em 4 componentes\n",
        "\n",
        "X_reduced = pca.fit_transform(X)\n",
        "\n",
        "scaler = StandardScaler()\n",
        "X_reduced = scaler.fit_transform(X_reduced)\n",
        "X_reduced *= np.pi\n",
        "#Analisa os features e transforma os vetores de 4096D em apenas apenas 4 componentes\n",
        "# na qual se destaca as principais informações do dado\n",
        "\n",
        "\n",
        "# Verificações\n",
        "print(\"X_reduced shape:\", X_reduced.shape)\n"
      ],
      "metadata": {
        "colab": {
          "base_uri": "https://localhost:8080/"
        },
        "id": "38ktuolPfxd6",
        "outputId": "2108e05f-75a3-4ea6-f2d3-5cbc94678253",
        "collapsed": true
      },
      "execution_count": 10,
      "outputs": [
        {
          "output_type": "stream",
          "name": "stdout",
          "text": [
            "X_reduced shape: (400, 4)\n"
          ]
        }
      ]
    },
    {
      "cell_type": "code",
      "source": [
        "# Reduzir dataset para 50 imagens por classe (100 no total)\n",
        "X_reduced_small = []\n",
        "y_small = []\n",
        "\n",
        "for label in [0, 1]:\n",
        "    idx = np.where(y == label)[0][:50]\n",
        "    X_reduced_small.extend(X_reduced[idx])\n",
        "    y_small.extend(y[idx])\n",
        "\n",
        "X_reduced_small = np.array(X_reduced_small)\n",
        "y_small = np.array(y_small)\n",
        "\n",
        "# Atualiza X e y para os reduzidos\n",
        "X = X_reduced_small\n",
        "y = y_small\n"
      ],
      "metadata": {
        "id": "5LzKemmjMNcx"
      },
      "execution_count": 11,
      "outputs": []
    },
    {
      "cell_type": "code",
      "source": [
        "import matplotlib.pyplot as plt\n",
        "\n",
        "plt.scatter(X[:, 0], X[:, 1], c=y, cmap=\"coolwarm\", alpha=0.7)\n",
        "plt.title(\"Distribuição dos dados após PCA (Base Reduzida)\")\n",
        "plt.xlabel(\"PC1\")\n",
        "plt.ylabel(\"PC2\")\n",
        "plt.colorbar(label=\"Label (0=Normal, 1=COVID)\")\n",
        "plt.grid(True)\n",
        "plt.show()\n",
        "\n"
      ],
      "metadata": {
        "colab": {
          "base_uri": "https://localhost:8080/",
          "height": 472
        },
        "id": "G-Q2cmycyufq",
        "outputId": "6562a14c-f13f-46be-ab47-f54bd9cf5608"
      },
      "execution_count": 12,
      "outputs": [
        {
          "output_type": "display_data",
          "data": {
            "text/plain": [
              "<Figure size 640x480 with 2 Axes>"
            ],
            "image/png": "[encoded data removed]"
          },
          "metadata": {}
        }
      ]
    },
    {
      "cell_type": "code",
      "source": [
        "from sklearn.model_selection import train_test_split\n",
        "\n",
        "# Divide em 80% treino e 20% validação\n",
        "X_train, X_val, y_train, y_val = train_test_split(X, y, test_size=0.2, random_state=42)\n",
        "\n"
      ],
      "metadata": {
        "id": "KI6LYojSs9tf"
      },
      "execution_count": 13,
      "outputs": []
    },
    {
      "cell_type": "code",
      "source": [
        "n_qubits = 4\n",
        "n_layers = 5\n",
        "param_shape = (n_layers, n_qubits, 4)  # 2 ângulos por qubit: RY e RZ\n",
        "params = np.random.uniform(0, np.pi, size=param_shape, requires_grad=True)\n"
      ],
      "metadata": {
        "id": "apxBhQr2_UqI"
      },
      "execution_count": 14,
      "outputs": []
    },
    {
      "cell_type": "code",
      "source": [
        "from pennylane.optimize import AdamOptimizer\n",
        "\n",
        "opt = AdamOptimizer(stepsize=0.001)  # ou stepsize=0.05, se quiser testar\n",
        "\n",
        "\n",
        " # ou stepsize=0.05, se quiser testar\n",
        "\n",
        "\n",
        "# stepsize define o quanto o parametro será ajustado em cada interação\n",
        "# quanto maior o stepsize: será ajustado forte o parametro, pode passar do mínimo e ficar oscilando\n",
        "# quanto menor: demora mais para se chegar ao mínimo, mas tem mais estabilidade"
      ],
      "metadata": {
        "id": "iqgthO4O_V-_"
      },
      "execution_count": 15,
      "outputs": []
    },
    {
      "cell_type": "code",
      "source": [
        "loss_history = []\n",
        "\n",
        "steps = 600\n",
        "batch_size = 10\n",
        "\n",
        "for step in range(steps):\n",
        "    indices = np.random.choice(len(X_train), batch_size, replace=False)\n",
        "    X_batch = X_train[indices]\n",
        "    y_batch = y_train[indices]\n",
        "\n",
        "    params = opt.step(lambda v: cost(v, X_batch, y_batch), params)\n",
        "\n",
        "    loss = cost(params, X_batch, y_batch)\n",
        "    loss_history.append(loss)\n",
        "\n",
        "    if step % 50 == 0:\n",
        "      sample_preds = [circuit(params, x) for x in X_val[:5]]\n",
        "      print(\"Sample preds:\", np.round(sample_preds, 3))\n",
        "\n",
        "\n",
        "    if step % 50 == 0:\n",
        "        acc = accuracy(params, X_val, y_val)\n",
        "        print(f\"Step {step}: Accuracy validação = {acc:.2%} | Cost batch = {cost(params, X_batch, y_batch):.4f}\")\n",
        "\n",
        "\n",
        "    if step % 50 == 0:\n",
        "        acc_train = accuracy(params, X_train, y_train)\n",
        "        acc_val = accuracy(params, X_val, y_val)\n",
        "        print(f\"Step {step}: Acc Treino = {acc_train:.2%} | Acc Validação = {acc_val:.2%} | Cost batch = {loss:.4f}\")\n",
        "\n"
      ],
      "metadata": {
        "colab": {
          "base_uri": "https://localhost:8080/",
          "height": 929
        },
        "id": "N9ezf9No_X3k",
        "outputId": "09ef51a7-1374-441f-b772-70a8ce351d4c",
        "collapsed": true
      },
      "execution_count": 16,
      "outputs": [
        {
          "output_type": "stream",
          "name": "stdout",
          "text": [
            "Sample preds: [-0.274  0.255 -0.124  0.62   0.141]\n",
            "Step 0: Accuracy validação = 50.00% | Cost batch = 0.7284\n",
            "Step 0: Acc Treino = 52.50% | Acc Validação = 50.00% | Cost batch = 0.7284\n",
            "Sample preds: [-0.264  0.353 -0.081  0.507  0.023]\n",
            "Step 50: Accuracy validação = 55.00% | Cost batch = 0.6694\n",
            "Step 50: Acc Treino = 55.00% | Acc Validação = 55.00% | Cost batch = 0.6694\n",
            "Sample preds: [-0.251  0.406 -0.035  0.359 -0.099]\n",
            "Step 100: Accuracy validação = 60.00% | Cost batch = 0.7869\n",
            "Step 100: Acc Treino = 52.50% | Acc Validação = 60.00% | Cost batch = 0.7869\n",
            "Sample preds: [-0.245  0.412  0.037  0.316 -0.154]\n",
            "Step 150: Accuracy validação = 65.00% | Cost batch = 0.7682\n",
            "Step 150: Acc Treino = 58.75% | Acc Validação = 65.00% | Cost batch = 0.7682\n",
            "Sample preds: [-0.281  0.429  0.086  0.214 -0.195]\n",
            "Step 200: Accuracy validação = 65.00% | Cost batch = 1.0509\n",
            "Step 200: Acc Treino = 58.75% | Acc Validação = 65.00% | Cost batch = 1.0509\n",
            "Sample preds: [-0.332  0.369  0.132  0.123 -0.232]\n",
            "Step 250: Accuracy validação = 65.00% | Cost batch = 0.6888\n",
            "Step 250: Acc Treino = 58.75% | Acc Validação = 65.00% | Cost batch = 0.6888\n",
            "Sample preds: [-0.342  0.331  0.176  0.056 -0.239]\n",
            "Step 300: Accuracy validação = 65.00% | Cost batch = 0.7372\n",
            "Step 300: Acc Treino = 60.00% | Acc Validação = 65.00% | Cost batch = 0.7372\n",
            "Sample preds: [-0.349  0.308  0.201  0.015 -0.27 ]\n",
            "Step 350: Accuracy validação = 60.00% | Cost batch = 0.6302\n",
            "Step 350: Acc Treino = 63.75% | Acc Validação = 60.00% | Cost batch = 0.6302\n",
            "Sample preds: [-0.393  0.266  0.225 -0.014 -0.258]\n",
            "Step 400: Accuracy validação = 60.00% | Cost batch = 0.5853\n",
            "Step 400: Acc Treino = 62.50% | Acc Validação = 60.00% | Cost batch = 0.5853\n",
            "Sample preds: [-0.387  0.246  0.255 -0.007 -0.253]\n",
            "Step 450: Accuracy validação = 60.00% | Cost batch = 0.6884\n",
            "Step 450: Acc Treino = 63.75% | Acc Validação = 60.00% | Cost batch = 0.6884\n",
            "Sample preds: [-0.387  0.213  0.239  0.043 -0.194]\n",
            "Step 500: Accuracy validação = 55.00% | Cost batch = 0.5194\n",
            "Step 500: Acc Treino = 66.25% | Acc Validação = 55.00% | Cost batch = 0.5194\n"
          ]
        },
        {
          "output_type": "error",
          "ename": "KeyboardInterrupt",
          "evalue": "",
          "traceback": [
            "\u001b[0;31m---------------------------------------------------------------------------\u001b[0m",
            "\u001b[0;31mKeyboardInterrupt\u001b[0m                         Traceback (most recent call last)",
            "\u001b[0;32m<ipython-input-16-beffda94fc4c>\u001b[0m in \u001b[0;36m<cell line: 0>\u001b[0;34m()\u001b[0m\n\u001b[1;32m     11\u001b[0m     \u001b[0mparams\u001b[0m \u001b[0;34m=\u001b[0m \u001b[0mopt\u001b[0m\u001b[0;34m.\u001b[0m\u001b[0mstep\u001b[0m\u001b[0;34m(\u001b[0m\u001b[0;32mlambda\u001b[0m \u001b[0mv\u001b[0m\u001b[0;34m:\u001b[0m \u001b[0mcost\u001b[0m\u001b[0;34m(\u001b[0m\u001b[0mv\u001b[0m\u001b[0;34m,\u001b[0m \u001b[0mX_batch\u001b[0m\u001b[0;34m,\u001b[0m \u001b[0my_batch\u001b[0m\u001b[0;34m)\u001b[0m\u001b[0;34m,\u001b[0m \u001b[0mparams\u001b[0m\u001b[0;34m)\u001b[0m\u001b[0;34m\u001b[0m\u001b[0;34m\u001b[0m\u001b[0m\n\u001b[1;32m     12\u001b[0m \u001b[0;34m\u001b[0m\u001b[0m\n\u001b[0;32m---> 13\u001b[0;31m     \u001b[0mloss\u001b[0m \u001b[0;34m=\u001b[0m \u001b[0mcost\u001b[0m\u001b[0;34m(\u001b[0m\u001b[0mparams\u001b[0m\u001b[0;34m,\u001b[0m \u001b[0mX_batch\u001b[0m\u001b[0;34m,\u001b[0m \u001b[0my_batch\u001b[0m\u001b[0;34m)\u001b[0m\u001b[0;34m\u001b[0m\u001b[0;34m\u001b[0m\u001b[0m\n\u001b[0m\u001b[1;32m     14\u001b[0m     \u001b[0mloss_history\u001b[0m\u001b[0;34m.\u001b[0m\u001b[0mappend\u001b[0m\u001b[0;34m(\u001b[0m\u001b[0mloss\u001b[0m\u001b[0;34m)\u001b[0m\u001b[0;34m\u001b[0m\u001b[0;34m\u001b[0m\u001b[0m\n\u001b[1;32m     15\u001b[0m \u001b[0;34m\u001b[0m\u001b[0m\n",
            "\u001b[0;32m<ipython-input-6-7e37a016507a>\u001b[0m in \u001b[0;36mcost\u001b[0;34m(params, X, Y)\u001b[0m\n\u001b[1;32m     16\u001b[0m     \u001b[0mloss\u001b[0m \u001b[0;34m=\u001b[0m \u001b[0;36m0\u001b[0m\u001b[0;34m\u001b[0m\u001b[0;34m\u001b[0m\u001b[0m\n\u001b[1;32m     17\u001b[0m     \u001b[0;32mfor\u001b[0m \u001b[0mx\u001b[0m\u001b[0;34m,\u001b[0m \u001b[0my\u001b[0m \u001b[0;32min\u001b[0m \u001b[0mzip\u001b[0m\u001b[0;34m(\u001b[0m\u001b[0mX\u001b[0m\u001b[0;34m,\u001b[0m \u001b[0mY\u001b[0m\u001b[0;34m)\u001b[0m\u001b[0;34m:\u001b[0m\u001b[0;34m\u001b[0m\u001b[0;34m\u001b[0m\u001b[0m\n\u001b[0;32m---> 18\u001b[0;31m         \u001b[0mpred\u001b[0m \u001b[0;34m=\u001b[0m \u001b[0mcircuit\u001b[0m\u001b[0;34m(\u001b[0m\u001b[0mparams\u001b[0m\u001b[0;34m,\u001b[0m \u001b[0mx\u001b[0m\u001b[0;34m)\u001b[0m\u001b[0;34m\u001b[0m\u001b[0;34m\u001b[0m\u001b[0m\n\u001b[0m\u001b[1;32m     19\u001b[0m         \u001b[0mloss\u001b[0m \u001b[0;34m+=\u001b[0m \u001b[0mbinary_cross_entropy\u001b[0m\u001b[0;34m(\u001b[0m\u001b[0mpred\u001b[0m\u001b[0;34m,\u001b[0m \u001b[0my\u001b[0m\u001b[0;34m)\u001b[0m\u001b[0;34m\u001b[0m\u001b[0;34m\u001b[0m\u001b[0m\n\u001b[1;32m     20\u001b[0m     \u001b[0;32mreturn\u001b[0m \u001b[0mloss\u001b[0m \u001b[0;34m/\u001b[0m \u001b[0mlen\u001b[0m\u001b[0;34m(\u001b[0m\u001b[0mX\u001b[0m\u001b[0;34m)\u001b[0m\u001b[0;34m\u001b[0m\u001b[0;34m\u001b[0m\u001b[0m\n",
            "\u001b[0;32m/usr/local/lib/python3.11/dist-packages/pennylane/workflow/qnode.py\u001b[0m in \u001b[0;36m__call__\u001b[0;34m(self, *args, **kwargs)\u001b[0m\n\u001b[1;32m    880\u001b[0m \u001b[0;34m\u001b[0m\u001b[0m\n\u001b[1;32m    881\u001b[0m             \u001b[0;32mreturn\u001b[0m \u001b[0mcapture_qnode\u001b[0m\u001b[0;34m(\u001b[0m\u001b[0mself\u001b[0m\u001b[0;34m,\u001b[0m \u001b[0;34m*\u001b[0m\u001b[0margs\u001b[0m\u001b[0;34m,\u001b[0m \u001b[0;34m**\u001b[0m\u001b[0mkwargs\u001b[0m\u001b[0;34m)\u001b[0m\u001b[0;34m\u001b[0m\u001b[0;34m\u001b[0m\u001b[0m\n\u001b[0;32m--> 882\u001b[0;31m         \u001b[0;32mreturn\u001b[0m \u001b[0mself\u001b[0m\u001b[0;34m.\u001b[0m\u001b[0m_impl_call\u001b[0m\u001b[0;34m(\u001b[0m\u001b[0;34m*\u001b[0m\u001b[0margs\u001b[0m\u001b[0;34m,\u001b[0m \u001b[0;34m**\u001b[0m\u001b[0mkwargs\u001b[0m\u001b[0;34m)\u001b[0m\u001b[0;34m\u001b[0m\u001b[0;34m\u001b[0m\u001b[0m\n\u001b[0m\u001b[1;32m    883\u001b[0m \u001b[0;34m\u001b[0m\u001b[0m\n\u001b[1;32m    884\u001b[0m \u001b[0;34m\u001b[0m\u001b[0m\n",
            "\u001b[0;32m/usr/local/lib/python3.11/dist-packages/pennylane/workflow/qnode.py\u001b[0m in \u001b[0;36m_impl_call\u001b[0;34m(self, *args, **kwargs)\u001b[0m\n\u001b[1;32m    853\u001b[0m         \u001b[0mself\u001b[0m\u001b[0;34m.\u001b[0m\u001b[0m_transform_program\u001b[0m\u001b[0;34m.\u001b[0m\u001b[0mset_classical_component\u001b[0m\u001b[0;34m(\u001b[0m\u001b[0mself\u001b[0m\u001b[0;34m,\u001b[0m \u001b[0margs\u001b[0m\u001b[0;34m,\u001b[0m \u001b[0mkwargs\u001b[0m\u001b[0;34m)\u001b[0m\u001b[0;34m\u001b[0m\u001b[0;34m\u001b[0m\u001b[0m\n\u001b[1;32m    854\u001b[0m \u001b[0;34m\u001b[0m\u001b[0m\n\u001b[0;32m--> 855\u001b[0;31m         res = qml.execute(\n\u001b[0m\u001b[1;32m    856\u001b[0m             \u001b[0;34m(\u001b[0m\u001b[0mtape\u001b[0m\u001b[0;34m,\u001b[0m\u001b[0;34m)\u001b[0m\u001b[0;34m,\u001b[0m\u001b[0;34m\u001b[0m\u001b[0;34m\u001b[0m\u001b[0m\n\u001b[1;32m    857\u001b[0m             \u001b[0mdevice\u001b[0m\u001b[0;34m=\u001b[0m\u001b[0mself\u001b[0m\u001b[0;34m.\u001b[0m\u001b[0mdevice\u001b[0m\u001b[0;34m,\u001b[0m\u001b[0;34m\u001b[0m\u001b[0;34m\u001b[0m\u001b[0m\n",
            "\u001b[0;32m/usr/local/lib/python3.11/dist-packages/pennylane/workflow/execution.py\u001b[0m in \u001b[0;36mexecute\u001b[0;34m(tapes, device, diff_method, interface, transform_program, grad_on_execution, cache, cachesize, max_diff, device_vjp, postselect_mode, mcm_method, gradient_kwargs, mcm_config, config, inner_transform)\u001b[0m\n\u001b[1;32m    229\u001b[0m         \u001b[0mderivative_order\u001b[0m\u001b[0;34m=\u001b[0m\u001b[0mmax_diff\u001b[0m\u001b[0;34m,\u001b[0m\u001b[0;34m\u001b[0m\u001b[0;34m\u001b[0m\u001b[0m\n\u001b[1;32m    230\u001b[0m     )\n\u001b[0;32m--> 231\u001b[0;31m     \u001b[0mconfig\u001b[0m \u001b[0;34m=\u001b[0m \u001b[0m_resolve_execution_config\u001b[0m\u001b[0;34m(\u001b[0m\u001b[0mconfig\u001b[0m\u001b[0;34m,\u001b[0m \u001b[0mdevice\u001b[0m\u001b[0;34m,\u001b[0m \u001b[0mtapes\u001b[0m\u001b[0;34m,\u001b[0m \u001b[0mtransform_program\u001b[0m\u001b[0;34m=\u001b[0m\u001b[0mtransform_program\u001b[0m\u001b[0;34m)\u001b[0m\u001b[0;34m\u001b[0m\u001b[0;34m\u001b[0m\u001b[0m\n\u001b[0m\u001b[1;32m    232\u001b[0m \u001b[0;34m\u001b[0m\u001b[0m\n\u001b[1;32m    233\u001b[0m     \u001b[0mtransform_program\u001b[0m \u001b[0;34m=\u001b[0m \u001b[0mtransform_program\u001b[0m \u001b[0;32mor\u001b[0m \u001b[0mqml\u001b[0m\u001b[0;34m.\u001b[0m\u001b[0mtransforms\u001b[0m\u001b[0;34m.\u001b[0m\u001b[0mcore\u001b[0m\u001b[0;34m.\u001b[0m\u001b[0mTransformProgram\u001b[0m\u001b[0;34m(\u001b[0m\u001b[0;34m)\u001b[0m\u001b[0;34m\u001b[0m\u001b[0;34m\u001b[0m\u001b[0m\n",
            "\u001b[0;32m/usr/local/lib/python3.11/dist-packages/pennylane/workflow/resolution.py\u001b[0m in \u001b[0;36m_resolve_execution_config\u001b[0;34m(execution_config, device, tapes, transform_program)\u001b[0m\n\u001b[1;32m    288\u001b[0m     ):\n\u001b[1;32m    289\u001b[0m         \u001b[0mexecution_config\u001b[0m \u001b[0;34m=\u001b[0m \u001b[0mreplace\u001b[0m\u001b[0;34m(\u001b[0m\u001b[0mexecution_config\u001b[0m\u001b[0;34m,\u001b[0m \u001b[0mgradient_method\u001b[0m\u001b[0;34m=\u001b[0m\u001b[0mqml\u001b[0m\u001b[0;34m.\u001b[0m\u001b[0mgradients\u001b[0m\u001b[0;34m.\u001b[0m\u001b[0mparam_shift\u001b[0m\u001b[0;34m)\u001b[0m\u001b[0;34m\u001b[0m\u001b[0;34m\u001b[0m\u001b[0m\n\u001b[0;32m--> 290\u001b[0;31m     \u001b[0mexecution_config\u001b[0m \u001b[0;34m=\u001b[0m \u001b[0m_resolve_diff_method\u001b[0m\u001b[0;34m(\u001b[0m\u001b[0mexecution_config\u001b[0m\u001b[0;34m,\u001b[0m \u001b[0mdevice\u001b[0m\u001b[0;34m,\u001b[0m \u001b[0mtape\u001b[0m\u001b[0;34m=\u001b[0m\u001b[0mtapes\u001b[0m\u001b[0;34m[\u001b[0m\u001b[0;36m0\u001b[0m\u001b[0;34m]\u001b[0m\u001b[0;34m)\u001b[0m\u001b[0;34m\u001b[0m\u001b[0;34m\u001b[0m\u001b[0m\n\u001b[0m\u001b[1;32m    291\u001b[0m \u001b[0;34m\u001b[0m\u001b[0m\n\u001b[1;32m    292\u001b[0m     if execution_config.use_device_jacobian_product and not device.supports_vjp(\n",
            "\u001b[0;32m/usr/local/lib/python3.11/dist-packages/pennylane/logging/decorators.py\u001b[0m in \u001b[0;36mwrapper_entry\u001b[0;34m(*args, **kwargs)\u001b[0m\n\u001b[1;32m     59\u001b[0m                 \u001b[0;34m**\u001b[0m\u001b[0m_debug_log_kwargs\u001b[0m\u001b[0;34m,\u001b[0m\u001b[0;34m\u001b[0m\u001b[0;34m\u001b[0m\u001b[0m\n\u001b[1;32m     60\u001b[0m             )\n\u001b[0;32m---> 61\u001b[0;31m         \u001b[0;32mreturn\u001b[0m \u001b[0mfunc\u001b[0m\u001b[0;34m(\u001b[0m\u001b[0;34m*\u001b[0m\u001b[0margs\u001b[0m\u001b[0;34m,\u001b[0m \u001b[0;34m**\u001b[0m\u001b[0mkwargs\u001b[0m\u001b[0;34m)\u001b[0m\u001b[0;34m\u001b[0m\u001b[0;34m\u001b[0m\u001b[0m\n\u001b[0m\u001b[1;32m     62\u001b[0m \u001b[0;34m\u001b[0m\u001b[0m\n\u001b[1;32m     63\u001b[0m     \u001b[0;34m@\u001b[0m\u001b[0mwraps\u001b[0m\u001b[0;34m(\u001b[0m\u001b[0mfunc\u001b[0m\u001b[0;34m)\u001b[0m\u001b[0;34m\u001b[0m\u001b[0;34m\u001b[0m\u001b[0m\n",
            "\u001b[0;32m/usr/local/lib/python3.11/dist-packages/pennylane/workflow/resolution.py\u001b[0m in \u001b[0;36m_resolve_diff_method\u001b[0;34m(initial_config, device, tape)\u001b[0m\n\u001b[1;32m    216\u001b[0m         \u001b[0;32mreturn\u001b[0m \u001b[0minitial_config\u001b[0m\u001b[0;34m\u001b[0m\u001b[0;34m\u001b[0m\u001b[0m\n\u001b[1;32m    217\u001b[0m \u001b[0;34m\u001b[0m\u001b[0m\n\u001b[0;32m--> 218\u001b[0;31m     \u001b[0;32mif\u001b[0m \u001b[0mdevice\u001b[0m\u001b[0;34m.\u001b[0m\u001b[0msupports_derivatives\u001b[0m\u001b[0;34m(\u001b[0m\u001b[0minitial_config\u001b[0m\u001b[0;34m,\u001b[0m \u001b[0mcircuit\u001b[0m\u001b[0;34m=\u001b[0m\u001b[0mtape\u001b[0m\u001b[0;34m)\u001b[0m\u001b[0;34m:\u001b[0m\u001b[0;34m\u001b[0m\u001b[0;34m\u001b[0m\u001b[0m\n\u001b[0m\u001b[1;32m    219\u001b[0m         \u001b[0mnew_config\u001b[0m \u001b[0;34m=\u001b[0m \u001b[0mdevice\u001b[0m\u001b[0;34m.\u001b[0m\u001b[0msetup_execution_config\u001b[0m\u001b[0;34m(\u001b[0m\u001b[0minitial_config\u001b[0m\u001b[0;34m)\u001b[0m\u001b[0;34m\u001b[0m\u001b[0;34m\u001b[0m\u001b[0m\n\u001b[1;32m    220\u001b[0m         \u001b[0;32mreturn\u001b[0m \u001b[0mnew_config\u001b[0m\u001b[0;34m\u001b[0m\u001b[0;34m\u001b[0m\u001b[0m\n",
            "\u001b[0;32m/usr/local/lib/python3.11/dist-packages/pennylane_lightning/lightning_qubit/lightning_qubit.py\u001b[0m in \u001b[0;36msupports_derivatives\u001b[0;34m(self, execution_config, circuit)\u001b[0m\n\u001b[1;32m    468\u001b[0m         \u001b[0;32mif\u001b[0m \u001b[0mcircuit\u001b[0m \u001b[0;32mis\u001b[0m \u001b[0;32mNone\u001b[0m\u001b[0;34m:\u001b[0m\u001b[0;34m\u001b[0m\u001b[0;34m\u001b[0m\u001b[0m\n\u001b[1;32m    469\u001b[0m             \u001b[0;32mreturn\u001b[0m \u001b[0;32mTrue\u001b[0m\u001b[0;34m\u001b[0m\u001b[0;34m\u001b[0m\u001b[0m\n\u001b[0;32m--> 470\u001b[0;31m         \u001b[0;32mreturn\u001b[0m \u001b[0m_supports_adjoint\u001b[0m\u001b[0;34m(\u001b[0m\u001b[0mcircuit\u001b[0m\u001b[0;34m=\u001b[0m\u001b[0mcircuit\u001b[0m\u001b[0;34m)\u001b[0m\u001b[0;34m\u001b[0m\u001b[0;34m\u001b[0m\u001b[0m\n\u001b[0m\u001b[1;32m    471\u001b[0m \u001b[0;34m\u001b[0m\u001b[0m\n\u001b[1;32m    472\u001b[0m     def simulate(\n",
            "\u001b[0;32m/usr/local/lib/python3.11/dist-packages/pennylane_lightning/lightning_qubit/lightning_qubit.py\u001b[0m in \u001b[0;36m_supports_adjoint\u001b[0;34m(circuit)\u001b[0m\n\u001b[1;32m    131\u001b[0m \u001b[0;34m\u001b[0m\u001b[0m\n\u001b[1;32m    132\u001b[0m     \u001b[0;32mtry\u001b[0m\u001b[0;34m:\u001b[0m\u001b[0;34m\u001b[0m\u001b[0;34m\u001b[0m\u001b[0m\n\u001b[0;32m--> 133\u001b[0;31m         \u001b[0mprog\u001b[0m\u001b[0;34m(\u001b[0m\u001b[0;34m(\u001b[0m\u001b[0mcircuit\u001b[0m\u001b[0;34m,\u001b[0m\u001b[0;34m)\u001b[0m\u001b[0;34m)\u001b[0m\u001b[0;34m\u001b[0m\u001b[0;34m\u001b[0m\u001b[0m\n\u001b[0m\u001b[1;32m    134\u001b[0m     \u001b[0;32mexcept\u001b[0m \u001b[0;34m(\u001b[0m\u001b[0mDecompositionUndefinedError\u001b[0m\u001b[0;34m,\u001b[0m \u001b[0mqml\u001b[0m\u001b[0;34m.\u001b[0m\u001b[0mDeviceError\u001b[0m\u001b[0;34m,\u001b[0m \u001b[0mAttributeError\u001b[0m\u001b[0;34m)\u001b[0m\u001b[0;34m:\u001b[0m\u001b[0;34m\u001b[0m\u001b[0;34m\u001b[0m\u001b[0m\n\u001b[1;32m    135\u001b[0m         \u001b[0;32mreturn\u001b[0m \u001b[0;32mFalse\u001b[0m\u001b[0;34m\u001b[0m\u001b[0;34m\u001b[0m\u001b[0m\n",
            "\u001b[0;32m/usr/local/lib/python3.11/dist-packages/pennylane/transforms/core/transform_program.py\u001b[0m in \u001b[0;36m__call__\u001b[0;34m(self, *args, **kwargs)\u001b[0m\n\u001b[1;32m    641\u001b[0m         \u001b[0;32mif\u001b[0m \u001b[0mtype\u001b[0m\u001b[0;34m(\u001b[0m\u001b[0margs\u001b[0m\u001b[0;34m[\u001b[0m\u001b[0;36m0\u001b[0m\u001b[0;34m]\u001b[0m\u001b[0;34m)\u001b[0m\u001b[0;34m.\u001b[0m\u001b[0m__name__\u001b[0m \u001b[0;34m==\u001b[0m \u001b[0;34m\"Jaxpr\"\u001b[0m\u001b[0;34m:\u001b[0m\u001b[0;34m\u001b[0m\u001b[0;34m\u001b[0m\u001b[0m\n\u001b[1;32m    642\u001b[0m             \u001b[0;32mreturn\u001b[0m \u001b[0mself\u001b[0m\u001b[0;34m.\u001b[0m\u001b[0m__call_jaxpr\u001b[0m\u001b[0;34m(\u001b[0m\u001b[0;34m*\u001b[0m\u001b[0margs\u001b[0m\u001b[0;34m,\u001b[0m \u001b[0;34m**\u001b[0m\u001b[0mkwargs\u001b[0m\u001b[0;34m)\u001b[0m\u001b[0;34m\u001b[0m\u001b[0;34m\u001b[0m\u001b[0m\n\u001b[0;32m--> 643\u001b[0;31m         \u001b[0;32mreturn\u001b[0m \u001b[0mself\u001b[0m\u001b[0;34m.\u001b[0m\u001b[0m__call_tapes\u001b[0m\u001b[0;34m(\u001b[0m\u001b[0;34m*\u001b[0m\u001b[0margs\u001b[0m\u001b[0;34m,\u001b[0m \u001b[0;34m**\u001b[0m\u001b[0mkwargs\u001b[0m\u001b[0;34m)\u001b[0m\u001b[0;34m\u001b[0m\u001b[0;34m\u001b[0m\u001b[0m\n\u001b[0m",
            "\u001b[0;32m/usr/local/lib/python3.11/dist-packages/pennylane/transforms/core/transform_program.py\u001b[0m in \u001b[0;36m__call_tapes\u001b[0;34m(self, tapes)\u001b[0m\n\u001b[1;32m    600\u001b[0m                 \u001b[0mprocessing_fns_stack\u001b[0m\u001b[0;34m.\u001b[0m\u001b[0mappend\u001b[0m\u001b[0;34m(\u001b[0m\u001b[0mbatch_postprocessing_classical\u001b[0m\u001b[0;34m)\u001b[0m\u001b[0;34m\u001b[0m\u001b[0;34m\u001b[0m\u001b[0m\n\u001b[1;32m    601\u001b[0m \u001b[0;34m\u001b[0m\u001b[0m\n\u001b[0;32m--> 602\u001b[0;31m             \u001b[0mbatch_postprocessing\u001b[0m \u001b[0;34m=\u001b[0m \u001b[0mpartial\u001b[0m\u001b[0;34m(\u001b[0m\u001b[0m_batch_postprocessing\u001b[0m\u001b[0;34m,\u001b[0m \u001b[0mindividual_fns\u001b[0m\u001b[0;34m=\u001b[0m\u001b[0mfns\u001b[0m\u001b[0;34m,\u001b[0m \u001b[0mslices\u001b[0m\u001b[0;34m=\u001b[0m\u001b[0mslices\u001b[0m\u001b[0;34m)\u001b[0m\u001b[0;34m\u001b[0m\u001b[0;34m\u001b[0m\u001b[0m\n\u001b[0m\u001b[1;32m    603\u001b[0m             \u001b[0mbatch_postprocessing\u001b[0m\u001b[0;34m.\u001b[0m\u001b[0m__doc__\u001b[0m \u001b[0;34m=\u001b[0m \u001b[0m_batch_postprocessing\u001b[0m\u001b[0;34m.\u001b[0m\u001b[0m__doc__\u001b[0m\u001b[0;34m\u001b[0m\u001b[0;34m\u001b[0m\u001b[0m\n\u001b[1;32m    604\u001b[0m             \u001b[0mprocessing_fns_stack\u001b[0m\u001b[0;34m.\u001b[0m\u001b[0mappend\u001b[0m\u001b[0;34m(\u001b[0m\u001b[0mbatch_postprocessing\u001b[0m\u001b[0;34m)\u001b[0m\u001b[0;34m\u001b[0m\u001b[0;34m\u001b[0m\u001b[0m\n",
            "\u001b[0;31mKeyboardInterrupt\u001b[0m: "
          ]
        }
      ]
    },
    {
      "cell_type": "code",
      "source": [
        "import pennylane as qml\n",
        "import matplotlib.pyplot as plt\n",
        "\n",
        "dev = qml.device(\"default.qubit\", wires=2)\n",
        "\n",
        "@qml.qnode(dev)\n",
        "def visual_ansatz():\n",
        "    x = [qml.numpy.pi/4]*4  # valores de entrada simbólicos\n",
        "\n",
        "    for layer in range(4):  # 4 camadas\n",
        "        qml.RX(x[0], wires=0)\n",
        "        qml.RX(x[1], wires=1)\n",
        "        qml.RY(x[2], wires=0)\n",
        "        qml.RY(x[3], wires=1)\n",
        "\n",
        "        qml.RY(layer + 0.1, wires=0)\n",
        "        qml.RZ(layer + 0.2, wires=0)\n",
        "        qml.RY(layer + 0.3, wires=1)\n",
        "        qml.RZ(layer + 0.4, wires=1)\n",
        "\n",
        "        qml.CNOT(wires=[0, 1])\n",
        "        qml.CNOT(wires=[1, 0])\n",
        "\n",
        "    return qml.expval(qml.PauliZ(0))\n",
        "\n",
        "fig, ax = qml.draw_mpl(visual_ansatz)()\n",
        "fig.suptitle(\"Circuito do Ansatz Customizado\", fontsize=14)\n",
        "fig.savefig(\"ansatz_circuito.png\")  # Arquivo salvo localmente\n"
      ],
      "metadata": {
        "id": "NSwJFfgWkDYp"
      },
      "execution_count": null,
      "outputs": []
    },
    {
      "cell_type": "code",
      "source": [
        "plt.figure(figsize=(10, 4))\n",
        "plt.plot(loss_history, marker='o')\n",
        "plt.title(\"Evolução da Loss durante o Treinamento\")\n",
        "plt.xlabel(\"Step\")\n",
        "plt.ylabel(\"Loss\")\n",
        "plt.grid(True)\n",
        "plt.show()\n"
      ],
      "metadata": {
        "collapsed": true,
        "id": "4MqPqB7qRXtf"
      },
      "execution_count": null,
      "outputs": []
    },
    {
      "cell_type": "code",
      "source": [
        "print(f\"Parâmetros finais: {params}\")\n",
        "#parametros finais que utilizam os operadores RY e RX"
      ],
      "metadata": {
        "id": "nZLRqUzC_X1E",
        "collapsed": true
      },
      "execution_count": null,
      "outputs": []
    },
    {
      "cell_type": "code",
      "source": [
        "from pennylane import draw\n",
        "\n",
        "# desenha o QNode completo (ansatz + codificação + medição)\n",
        "drawer = draw(circuit)\n",
        "print(drawer(params, X_train[0]))\n"
      ],
      "metadata": {
        "id": "iiBBks6Pv4s1"
      },
      "execution_count": null,
      "outputs": []
    }
  ]
}