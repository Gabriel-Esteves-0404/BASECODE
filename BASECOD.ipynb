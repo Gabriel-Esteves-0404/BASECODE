{
  "nbformat": 4,
  "nbformat_minor": 0,
  "metadata": {
    "colab": {
      "provenance": [],
      "authorship_tag": "ABX9TyNnFty+A/w+cMVb1kxW8qeU",
      "include_colab_link": true
    },
    "kernelspec": {
      "name": "python3",
      "display_name": "Python 3"
    },
    "language_info": {
      "name": "python"
    }
  },
  "cells": [
    {
      "cell_type": "markdown",
      "metadata": {
        "id": "view-in-github",
        "colab_type": "text"
      },
      "source": [
        "<a href=\"https://colab.research.google.com/github/Gabriel-Esteves-0404/BASECODE/blob/main/BASECOD.ipynb\" target=\"_parent\"><img src=\"https://colab.research.google.com/assets/colab-badge.svg\" alt=\"Open In Colab\"/></a>"
      ]
    },
    {
      "cell_type": "code",
      "source": [
        "%pip install pennylane"
      ],
      "metadata": {
        "colab": {
          "base_uri": "https://localhost:8080/"
        },
        "id": "dWT3_7HT8gnl",
        "outputId": "76bd54aa-dd72-481b-b132-f3e8b55599d5"
      },
      "execution_count": 3,
      "outputs": [
        {
          "output_type": "stream",
          "name": "stdout",
          "text": [
            "Requirement already satisfied: pennylane in /usr/local/lib/python3.11/dist-packages (0.41.1)\n",
            "Requirement already satisfied: numpy in /usr/local/lib/python3.11/dist-packages (from pennylane) (2.0.2)\n",
            "Requirement already satisfied: scipy in /usr/local/lib/python3.11/dist-packages (from pennylane) (1.15.3)\n",
            "Requirement already satisfied: networkx in /usr/local/lib/python3.11/dist-packages (from pennylane) (3.4.2)\n",
            "Requirement already satisfied: rustworkx>=0.14.0 in /usr/local/lib/python3.11/dist-packages (from pennylane) (0.16.0)\n",
            "Requirement already satisfied: autograd in /usr/local/lib/python3.11/dist-packages (from pennylane) (1.8.0)\n",
            "Requirement already satisfied: tomlkit in /usr/local/lib/python3.11/dist-packages (from pennylane) (0.13.2)\n",
            "Requirement already satisfied: appdirs in /usr/local/lib/python3.11/dist-packages (from pennylane) (1.4.4)\n",
            "Requirement already satisfied: autoray>=0.6.11 in /usr/local/lib/python3.11/dist-packages (from pennylane) (0.7.1)\n",
            "Requirement already satisfied: cachetools in /usr/local/lib/python3.11/dist-packages (from pennylane) (5.5.2)\n",
            "Requirement already satisfied: pennylane-lightning>=0.41 in /usr/local/lib/python3.11/dist-packages (from pennylane) (0.41.1)\n",
            "Requirement already satisfied: requests in /usr/local/lib/python3.11/dist-packages (from pennylane) (2.32.3)\n",
            "Requirement already satisfied: typing-extensions in /usr/local/lib/python3.11/dist-packages (from pennylane) (4.13.2)\n",
            "Requirement already satisfied: packaging in /usr/local/lib/python3.11/dist-packages (from pennylane) (24.2)\n",
            "Requirement already satisfied: diastatic-malt in /usr/local/lib/python3.11/dist-packages (from pennylane) (2.15.2)\n",
            "Requirement already satisfied: scipy-openblas32>=0.3.26 in /usr/local/lib/python3.11/dist-packages (from pennylane-lightning>=0.41->pennylane) (0.3.29.265.0)\n",
            "Requirement already satisfied: astunparse in /usr/local/lib/python3.11/dist-packages (from diastatic-malt->pennylane) (1.6.3)\n",
            "Requirement already satisfied: gast in /usr/local/lib/python3.11/dist-packages (from diastatic-malt->pennylane) (0.6.0)\n",
            "Requirement already satisfied: termcolor in /usr/local/lib/python3.11/dist-packages (from diastatic-malt->pennylane) (3.1.0)\n",
            "Requirement already satisfied: charset-normalizer<4,>=2 in /usr/local/lib/python3.11/dist-packages (from requests->pennylane) (3.4.2)\n",
            "Requirement already satisfied: idna<4,>=2.5 in /usr/local/lib/python3.11/dist-packages (from requests->pennylane) (3.10)\n",
            "Requirement already satisfied: urllib3<3,>=1.21.1 in /usr/local/lib/python3.11/dist-packages (from requests->pennylane) (2.4.0)\n",
            "Requirement already satisfied: certifi>=2017.4.17 in /usr/local/lib/python3.11/dist-packages (from requests->pennylane) (2025.4.26)\n",
            "Requirement already satisfied: wheel<1.0,>=0.23.0 in /usr/local/lib/python3.11/dist-packages (from astunparse->diastatic-malt->pennylane) (0.45.1)\n",
            "Requirement already satisfied: six<2.0,>=1.6.1 in /usr/local/lib/python3.11/dist-packages (from astunparse->diastatic-malt->pennylane) (1.17.0)\n"
          ]
        }
      ]
    },
    {
      "cell_type": "code",
      "execution_count": 4,
      "metadata": {
        "id": "iSTglMIb63v5",
        "colab": {
          "base_uri": "https://localhost:8080/"
        },
        "outputId": "75547a90-4368-4b6c-d295-341fe920e92a"
      },
      "outputs": [
        {
          "output_type": "stream",
          "name": "stderr",
          "text": [
            "/usr/local/lib/python3.11/dist-packages/pennylane/capture/capture_operators.py:33: RuntimeWarning: PennyLane is not yet compatible with JAX versions > 0.4.28. You have version 0.5.2 installed. Please downgrade JAX to <=0.4.28 to avoid runtime errors.\n",
            "  warnings.warn(\n"
          ]
        }
      ],
      "source": [
        "import pennylane as qml\n",
        "from pennylane import numpy as np\n",
        "import matplotlib.pyplot as plt\n",
        "\n",
        "\n",
        "#importações necessárias para o circuito da biblioteca Pennylane"
      ]
    },
    {
      "cell_type": "code",
      "source": [
        "n_qubits = 2\n",
        "dev = qml.device(\"default.qubit\", wires=n_qubits)\n",
        "\n",
        "#definição do números de qubits e do modo que esse circuito será executado \"default\""
      ],
      "metadata": {
        "id": "69hl42q69SdS"
      },
      "execution_count": 5,
      "outputs": []
    },
    {
      "cell_type": "code",
      "source": [
        "from pennylane.templates import StronglyEntanglingLayers\n",
        "\n",
        "def ansatz(params, x=None): #definição do Ansatz (params = parametro ajustado do qubit; x = dados da entrada)\n",
        "    StronglyEntanglingLayers(params, wires=range(n_qubits))\n",
        "#utilização do Ansatz StronglyEntangling da Pennylane\n",
        "\n",
        "    if x is not None:\n",
        "        for i in range(n_qubits):\n",
        "            qml.RX(x[i], wires=i) #Esses dados de entrada (dataset) será aplicada como rotação do eixo X do qubit\n"
      ],
      "metadata": {
        "id": "0F5nv1oZSoS7"
      },
      "execution_count": 6,
      "outputs": []
    },
    {
      "cell_type": "code",
      "source": [
        "@qml.qnode(dev) #Esse decador (@) transforma esse circuit em um circuito quantico do pennylane\n",
        "#faz simulações, está usando (dev) porque vai incrementar as propriedades do dev no circuit definido abaixo\n",
        "\n",
        "def circuit(params, x=None): #Aqui é definido o circuit, em que é construido atráves do Ansatz\n",
        "    ansatz(params, x)\n",
        "    return qml.expval(qml.PauliZ(0)), qml.expval(qml.PauliZ(1))\n",
        "#aqui retorna o VEM pelo PauliZ do primeiro qubit"
      ],
      "metadata": {
        "id": "E6kga_iG04UO"
      },
      "execution_count": 7,
      "outputs": []
    },
    {
      "cell_type": "code",
      "source": [
        "#aqui iremos implementar o (X,Y,x,y) que serão:\n",
        "# X(todos os valores de entrada do dataset)\n",
        "# Y(todos os valores de saida esperada // labels ou rótulo)\n",
        "# x(valor de entrada de cada dado)\n",
        "# y(valor de saida esperado de cada dado)\n",
        "\n",
        "\n",
        "def cost(params, X, Y): #definição da função custo\n",
        "    loss = 0 #a função inicia em 0\n",
        "    for x, y in zip(X, Y): # Pega um elemento de forma paralela de X e Y (dataset) até\n",
        "    # o menor deles acabar\n",
        "\n",
        "        pred0, pred1 = circuit(params, x) # predição do circuito que retorna\n",
        "        pred = pred0 + pred1\n",
        "        # o VEM do PauliZ da simualação feita\n",
        "\n",
        "        loss += (pred - y) ** 2 # adquiri o valor de loss o predição feita, menos o valor\n",
        "    #de saida esperado (o erro, por assim dizer), elevado ao quadrado para não ter valores\n",
        "    #negativos e penalizar mais maiores erros (essa é uma forma de calcular a loss)\n",
        "\n",
        "    return loss / len(X) # aqui vai retorar a média da loss com a quantidade de entrada\n"
      ],
      "metadata": {
        "id": "5sKwefhP5WMn"
      },
      "execution_count": 8,
      "outputs": []
    },
    {
      "cell_type": "code",
      "source": [
        "from google.colab import drive\n",
        "drive.mount('/content/drive')"
      ],
      "metadata": {
        "colab": {
          "base_uri": "https://localhost:8080/"
        },
        "id": "TfOps1LVZrbG",
        "outputId": "54700939-8282-4de0-e137-fdb27fe469bd"
      },
      "execution_count": 9,
      "outputs": [
        {
          "output_type": "stream",
          "name": "stdout",
          "text": [
            "Mounted at /content/drive\n"
          ]
        }
      ]
    },
    {
      "cell_type": "code",
      "source": [
        "          #Importação do Dataset (COVID / Normal)\n",
        "\n",
        "import os\n",
        "from PIL import Image\n",
        "\n",
        "base_path = \"/content/drive/MyDrive/DATASET_BASECOD/\"\n",
        "# Abrindo o caminho do dataset para a importação\n",
        "\n",
        "size = (64, 64)\n",
        "# classifica uma dimensão de imagem\n",
        "\n",
        "def process_image(path):\n",
        "     img = Image.open(path).convert(\"L\").resize((64, 64))\n",
        "     return np.array(img) / 255.0\n",
        "# Nessa parte se define o process_image, em que vai abrir o arquivo inserido na pasta\n",
        "# pré-definida, a transforma em escala de cinza dimensiona para o valor definido em size\n",
        "# Normaliza os pixels no intervalo de [0,1]\n",
        "\n",
        "\n",
        "X = [] #Array dos dados de entradas\n",
        "y = [] #Array dos labels (rótulos)\n",
        "\n",
        "# COVID\n",
        "\n",
        "covid_img_files = sorted(os.listdir(os.path.join(base_path, \"COVID_IMAGES\")))\n",
        "covid_mask_files = sorted(os.listdir(os.path.join(base_path, \"COVID_MASK\")))\n",
        "\n",
        "\n",
        "for img_file, mask_file in zip(covid_img_files, covid_mask_files):\n",
        "    img = process_image(os.path.join(base_path, \"COVID_IMAGES\", img_file))\n",
        "    mask = process_image(os.path.join(base_path, \"COVID_MASK\", mask_file))\n",
        "    img_masked = img * mask\n",
        "    X.append(img_masked.flatten())\n",
        "    y.append(1)\n",
        "# Classificar os dados do COVID juntando a images com os masks (imagens mascaradas)\n",
        "# dentro da lista X, transforma os dados de entrada de 64x64 px por um vetor de 4096 D\n",
        "# Defini o COVID como label 1\n",
        "\n",
        "# NORMAL\n",
        "normal_img_files = sorted(os.listdir(os.path.join(base_path, \"Normal_Images\")))\n",
        "normal_mask_files = sorted(os.listdir(os.path.join(base_path, \"Normal_Mask\")))\n",
        "\n",
        "\n",
        "for img_file, mask_file in zip(normal_img_files, normal_mask_files):\n",
        "    img = process_image(os.path.join(base_path, \"Normal_Images\", img_file))\n",
        "    mask = process_image(os.path.join(base_path, \"Normal_Mask\", mask_file))\n",
        "    img_masked = img * mask\n",
        "    X.append(img_masked.flatten())\n",
        "    y.append(0)\n",
        "# Classificar os dados do Normal juntando a images com os masks (imagens mascaradas)\n",
        "# dentro da lista X, transforma os dados de entrada de 64x64 px por um vetor de 4096 D\n",
        "# Defini o Normal como label 0\n",
        "\n",
        "X = np.array(X)\n",
        "y = np.array(y)\n",
        "# Transforma a lista em array do numpy\n",
        "\n",
        "print(\"Formato de X:\", X.shape) #dados de entrada (10,4096) 10 vetores de 4096D\n",
        "print(\"Formato de y:\", y.shape) # 10 labels binários\n",
        "# Checar formato\n"
      ],
      "metadata": {
        "colab": {
          "base_uri": "https://localhost:8080/"
        },
        "id": "c0U4I1y4_Tx3",
        "outputId": "8a7143e8-c94b-4753-e8ff-6fc6a6b55b53"
      },
      "execution_count": 23,
      "outputs": [
        {
          "output_type": "stream",
          "name": "stdout",
          "text": [
            "Formato de X: (10, 4096)\n",
            "Formato de y: (10,)\n"
          ]
        }
      ]
    },
    {
      "cell_type": "code",
      "source": [
        "# Exemplo: mostrar a primeira imagem COVID com máscara aplicada\n",
        "import matplotlib.pyplot as plt\n",
        "\n",
        "img = process_image(\"COVID_Images-1.png\")\n",
        "mask = process_image(\"COVID_Mask-1.png\")\n",
        "img_masked = img * mask\n",
        "\n",
        "plt.figure(figsize=(12, 4))\n",
        "plt.subplot(1, 3, 1)\n",
        "plt.title(\"Imagem Original\")\n",
        "plt.imshow(img, cmap='gray')\n",
        "plt.axis('off')\n",
        "\n",
        "plt.subplot(1, 3, 2)\n",
        "plt.title(\"Máscara\")\n",
        "plt.imshow(mask, cmap='gray')\n",
        "plt.axis('off')\n",
        "\n",
        "plt.subplot(1, 3, 3)\n",
        "plt.title(\"Imagem Mascarada\")\n",
        "plt.imshow(img_masked, cmap='gray')\n",
        "plt.axis('off')\n",
        "\n",
        "plt.tight_layout()\n",
        "plt.show()\n"
      ],
      "metadata": {
        "colab": {
          "base_uri": "https://localhost:8080/",
          "height": 235
        },
        "id": "oppxixcuPO1T",
        "outputId": "b8598434-840b-467a-a51a-e7d1fa5a2bea"
      },
      "execution_count": 11,
      "outputs": [
        {
          "output_type": "display_data",
          "data": {
            "text/plain": [
              "<Figure size 1200x400 with 3 Axes>"
            ],
            "image/png": "[encoded data removed]"
          },
          "metadata": {}
        }
      ]
    },
    {
      "cell_type": "code",
      "source": [
        "plt.figure(figsize=(6, 6))\n",
        "colors = ['red' if label == 1 else 'blue' for label in y]\n",
        "\n",
        "plt.scatter(X[:, 0], X[:, 1], c=colors, alpha=0.7)\n",
        "plt.title(\"Distribuição dos dados antes do PCA\")\n",
        "plt.xlabel(\"Pixel 0\")\n",
        "plt.ylabel(\"Pixel 1\")\n",
        "plt.grid(True)\n",
        "plt.tight_layout()\n",
        "plt.show()\n"
      ],
      "metadata": {
        "colab": {
          "base_uri": "https://localhost:8080/",
          "height": 607
        },
        "id": "tNXP9cE1R81g",
        "outputId": "e76a94f9-c14c-41a1-dcc9-1aeb2289b773"
      },
      "execution_count": 20,
      "outputs": [
        {
          "output_type": "display_data",
          "data": {
            "text/plain": [
              "<Figure size 600x600 with 1 Axes>"
            ],
            "image/png": "[encoded data removed]"
          },
          "metadata": {}
        }
      ]
    },
    {
      "cell_type": "code",
      "source": [
        "from sklearn.decomposition import PCA\n",
        "\n",
        "pca = PCA(n_components=4)\n",
        "# Aqui PCA entende que terá que redimensionar o vetor em 4 componentes\n",
        "\n",
        "X_reduced = pca.fit_transform(X)\n",
        "#Analisa os features e transforma os vetores de 4096D em apenas apenas 4 componentes\n",
        "# na qual se destaca as principais informações do dado\n",
        "\n",
        "\n",
        "# Verificações\n",
        "print(\"X_reduced shape:\", X_reduced.shape)\n"
      ],
      "metadata": {
        "colab": {
          "base_uri": "https://localhost:8080/"
        },
        "id": "38ktuolPfxd6",
        "outputId": "f67c4335-36c9-4349-9bd1-b92d7dbb52b2"
      },
      "execution_count": 12,
      "outputs": [
        {
          "output_type": "stream",
          "name": "stdout",
          "text": [
            "X_reduced shape: (10, 4)\n"
          ]
        }
      ]
    },
    {
      "cell_type": "code",
      "source": [
        "n_layers = 3\n",
        "params = np.random.randn(n_layers, n_qubits, 3, requires_grad=True)\n",
        "\n",
        "#Nessa parte do código insere-se uma semente aletória para o params inicial, em que tem que\n",
        "#corresponder ao n_qubits e é habilitado também a função requires_grad\n",
        "\n",
        "# requires_grad: função do pennylane para o indica o gradinte do da função loss em relação ao parametro\n",
        "# sendo fundamental para o otimizador ajustar o parametro e minimizar a função loss\n"
      ],
      "metadata": {
        "id": "apxBhQr2_UqI"
      },
      "execution_count": 13,
      "outputs": []
    },
    {
      "cell_type": "code",
      "source": [
        "opt = qml.optimize.AdamOptimizer(stepsize=0.01)\n",
        "\n",
        "# stepsize define o quanto o parametro será ajustado em cada interação\n",
        "# quanto maior o stepsize: será ajustado forte o parametro, pode passar do mínimo e ficar oscilando\n",
        "# quanto menor: demora mais para se chegar ao mínimo, mas tem mais estabilidade"
      ],
      "metadata": {
        "id": "iqgthO4O_V-_"
      },
      "execution_count": 14,
      "outputs": []
    },
    {
      "cell_type": "code",
      "source": [
        "steps = 30\n",
        "\n",
        "loss_history = []\n",
        "for i in range(steps):\n",
        "    params = opt.step(lambda v: cost(v, X, y.astype(float)), params)\n",
        "\n",
        "    current_cost = cost(params, X_reduced, y.astype(float))\n",
        "    loss_history.append(current_cost)\n",
        "\n",
        "\n",
        "    if i % 1 == 0: #informa que mostrará a loss de 10 em 10\n",
        "      print(f\"Step {i}: Cost = {cost(params, X_reduced,y.astype(float))}\")\n",
        "\n",
        "        #nessa etapa ocorre a representação da evolução da função loss ao decorrer do código\n",
        "        #com os ajustes do otimizador\n"
      ],
      "metadata": {
        "colab": {
          "base_uri": "https://localhost:8080/"
        },
        "id": "N9ezf9No_X3k",
        "outputId": "1bb29f86-10fe-46e9-99f9-ee6d3a4372a4"
      },
      "execution_count": 16,
      "outputs": [
        {
          "output_type": "stream",
          "name": "stdout",
          "text": [
            "Step 0: Cost = 0.9900245982806393\n",
            "Step 1: Cost = 0.9781466386145631\n",
            "Step 2: Cost = 0.9645439156292209\n",
            "Step 3: Cost = 0.9494667635405486\n",
            "Step 4: Cost = 0.9332219894787\n",
            "Step 5: Cost = 0.9161638818871431\n",
            "Step 6: Cost = 0.8986793829411258\n",
            "Step 7: Cost = 0.8811676951983219\n",
            "Step 8: Cost = 0.8640160164760247\n",
            "Step 9: Cost = 0.8475748084367002\n",
            "Step 10: Cost = 0.8321371496499497\n",
            "Step 11: Cost = 0.8179262300958783\n",
            "Step 12: Cost = 0.805092668793504\n",
            "Step 13: Cost = 0.7937202903074673\n",
            "Step 14: Cost = 0.783837026473396\n",
            "Step 15: Cost = 0.7754274574895147\n",
            "Step 16: Cost = 0.7684445736907314\n",
            "Step 17: Cost = 0.7628196177389506\n",
            "Step 18: Cost = 0.7584697692175915\n",
            "Step 19: Cost = 0.7553038834909132\n",
            "Step 20: Cost = 0.7532266458168666\n",
            "Step 21: Cost = 0.7521415059125875\n",
            "Step 22: Cost = 0.7519527092296653\n",
            "Step 23: Cost = 0.7525666792690304\n",
            "Step 24: Cost = 0.7538929448726612\n",
            "Step 25: Cost = 0.7558447527483438\n",
            "Step 26: Cost = 0.7583394609206306\n",
            "Step 27: Cost = 0.7612987746143433\n",
            "Step 28: Cost = 0.7646488624582329\n",
            "Step 29: Cost = 0.7683203768990675\n"
          ]
        }
      ]
    },
    {
      "cell_type": "code",
      "source": [
        "plt.figure(figsize=(8, 4))\n",
        "plt.plot(loss_history, marker='o')\n",
        "plt.title(\"Evolução da Loss durante o Treinamento\")\n",
        "plt.xlabel(\"Step\")\n",
        "plt.ylabel(\"Loss\")\n",
        "plt.grid(True)\n",
        "plt.tight_layout()\n",
        "plt.show()\n"
      ],
      "metadata": {
        "colab": {
          "base_uri": "https://localhost:8080/",
          "height": 328
        },
        "id": "4MqPqB7qRXtf",
        "outputId": "23b45942-612f-493a-ec25-4e9546d7e088"
      },
      "execution_count": 17,
      "outputs": [
        {
          "output_type": "display_data",
          "data": {
            "text/plain": [
              "<Figure size 800x400 with 1 Axes>"
            ],
            "image/png": "[encoded data removed]"
          },
          "metadata": {}
        }
      ]
    },
    {
      "cell_type": "code",
      "source": [
        "print(f\"Parâmetros finais: {params}\")\n",
        "#parametros finais que utilizam os operadores RY e RX"
      ],
      "metadata": {
        "colab": {
          "base_uri": "https://localhost:8080/"
        },
        "id": "nZLRqUzC_X1E",
        "outputId": "ac011c36-624c-4b5e-ea79-a339e53f5bf1"
      },
      "execution_count": 18,
      "outputs": [
        {
          "output_type": "stream",
          "name": "stdout",
          "text": [
            "Parâmetros finais: [[[ 1.6545119   1.64241505 -1.10939647]\n",
            "  [-0.14643016  0.65586089 -0.37692168]]\n",
            "\n",
            " [[-1.35783374 -1.3374723   1.27720564]\n",
            "  [-1.31650058 -1.012616    0.2651406 ]]\n",
            "\n",
            " [[ 0.13603132  0.92907653  0.78899223]\n",
            "  [-0.05708787 -0.27783908  1.30548132]]]\n"
          ]
        }
      ]
    },
    {
      "cell_type": "code",
      "source": [
        "acertos = 0\n",
        "for x, y_true in zip(X_reduced, y.astype(float)):\n",
        "    pred0, pred1 = circuit(params, x)\n",
        "    pred = pred0 + pred1\n",
        "    classe = 1 if pred > 0 else 0  # ✅ Corrigido aqui\n",
        "    if classe == y_true:\n",
        "        acertos += 1\n",
        "\n",
        "acuracia = acertos / len(X_reduced)\n",
        "print(f\"Acurácia final: {acuracia * 100:.2f}%\")\n"
      ],
      "metadata": {
        "colab": {
          "base_uri": "https://localhost:8080/"
        },
        "id": "CrmTjRG3sdNz",
        "outputId": "9c96b939-6708-4a8c-da43-0958b36d1372"
      },
      "execution_count": 19,
      "outputs": [
        {
          "output_type": "stream",
          "name": "stdout",
          "text": [
            "Acurácia final: 50.00%\n"
          ]
        }
      ]
    }
  ]
}